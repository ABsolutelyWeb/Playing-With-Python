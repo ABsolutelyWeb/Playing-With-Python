{
 "cells": [
  {
   "cell_type": "code",
   "execution_count": 1,
   "metadata": {
    "collapsed": true
   },
   "outputs": [],
   "source": [
    "# What is in packages? Various different functions and other data that we import into our code for usage.\n",
    "# Since Python's standalone version is limited in functions, we must use import to bring in extra tools\n",
    "# for us to use."
   ]
  },
  {
   "cell_type": "code",
   "execution_count": 2,
   "metadata": {
    "collapsed": true
   },
   "outputs": [],
   "source": [
    "# MODULE: A file containing Python definitions, functions, and statements."
   ]
  },
  {
   "cell_type": "code",
   "execution_count": 3,
   "metadata": {
    "collapsed": true
   },
   "outputs": [],
   "source": [
    "# PACKAGE: A way of collecting related modules together within a single tree-like hierarchy. Complex\n",
    "#          packages like NumPy or SciPy have hundreds of modules so putting them in a directory-like\n",
    "#          structure keeps them organized."
   ]
  },
  {
   "cell_type": "code",
   "execution_count": 4,
   "metadata": {
    "collapsed": true
   },
   "outputs": [],
   "source": [
    "# STEP 1: Find what package you need.\n",
    "# STEP 2: Install the package.\n",
    "# STEP 3: Import package OR just some important functions."
   ]
  },
  {
   "cell_type": "code",
   "execution_count": 5,
   "metadata": {
    "collapsed": true
   },
   "outputs": [],
   "source": [
    "# STEP 1: Best place to look for packages is GitHub.\n",
    "# STEP 2: Go into the Anaconda Prompt and type \"conda install package_name\"\n",
    "#         OR \"pip install package_name\"\n",
    "# STEP 3: Go into your code and type \"import package_name\" to import whole package or \"import package_name.function\"\n",
    "#         to import a specific function."
   ]
  },
  {
   "cell_type": "code",
   "execution_count": 7,
   "metadata": {
    "collapsed": true
   },
   "outputs": [],
   "source": [
    "import scrapy"
   ]
  },
  {
   "cell_type": "code",
   "execution_count": 9,
   "metadata": {
    "collapsed": true
   },
   "outputs": [],
   "source": [
    "from scrapy.crawler import CrawlerProcess"
   ]
  },
  {
   "cell_type": "code",
   "execution_count": null,
   "metadata": {
    "collapsed": true
   },
   "outputs": [],
   "source": [
    "# Type package name followed by a dot and then hit tab to see all options.\n",
    "scrapy."
   ]
  }
 ],
 "metadata": {
  "kernelspec": {
   "display_name": "Python 3",
   "language": "python",
   "name": "python3"
  },
  "language_info": {
   "codemirror_mode": {
    "name": "ipython",
    "version": 3
   },
   "file_extension": ".py",
   "mimetype": "text/x-python",
   "name": "python",
   "nbconvert_exporter": "python",
   "pygments_lexer": "ipython3",
   "version": "3.6.1"
  }
 },
 "nbformat": 4,
 "nbformat_minor": 2
}
