{
 "cells": [
  {
   "cell_type": "code",
   "execution_count": 1,
   "metadata": {
    "collapsed": true
   },
   "outputs": [],
   "source": [
    "# Law of Large Numbers\n",
    "# states that the average of a certain value (e.g. average height of a group of people)\n",
    "# will converge to the expected value of that same measure when n increases to infinity.\n",
    "\n",
    "# As you increase n AKA the number of subjects in a sample, the average of the sample\n",
    "# will slowly lean towards the expected value (E(x))."
   ]
  },
  {
   "cell_type": "code",
   "execution_count": 2,
   "metadata": {
    "collapsed": true
   },
   "outputs": [],
   "source": [
    "import numpy as np\n",
    "from numpy.random import randn"
   ]
  },
  {
   "cell_type": "code",
   "execution_count": 94,
   "metadata": {},
   "outputs": [
    {
     "name": "stdout",
     "output_type": "stream",
     "text": [
      "How many random integers should we generate?: 1000000\n",
      "-0.00039193239648602045\n",
      "1000000\n"
     ]
    }
   ],
   "source": [
    "totalSum = 0;\n",
    "executions = int(input(\"How many random integers should we generate?: \"))\n",
    "temp = executions\n",
    "while executions > 0:\n",
    "    x = randn()\n",
    "    if x > -1 and x < 1:\n",
    "        totalSum = x + totalSum\n",
    "    executions = executions - 1\n",
    "print(\"{}\".format(totalSum/temp))\n",
    "print(temp)"
   ]
  },
  {
   "cell_type": "code",
   "execution_count": 101,
   "metadata": {},
   "outputs": [],
   "source": [
    "### ALTERNATE SOLUTION ###\n",
    "# but change it to show percentage that fall in the interval rather than the actual sum.\n",
    "# Typicall range should be 64-68% which is expected from normal distribution chart."
   ]
  },
  {
   "cell_type": "code",
   "execution_count": 147,
   "metadata": {},
   "outputs": [
    {
     "name": "stdout",
     "output_type": "stream",
     "text": [
      "0.68452\n"
     ]
    }
   ],
   "source": [
    "sampleSize = 100000\n",
    "counter = 0\n",
    "for i in randn(sampleSize):\n",
    "    if (i > -1 and i < 1):\n",
    "        counter = counter + 1\n",
    "answer = counter / sampleSize\n",
    "print(answer)"
   ]
  }
 ],
 "metadata": {
  "kernelspec": {
   "display_name": "Python 3",
   "language": "python",
   "name": "python3"
  },
  "language_info": {
   "codemirror_mode": {
    "name": "ipython",
    "version": 3
   },
   "file_extension": ".py",
   "mimetype": "text/x-python",
   "name": "python",
   "nbconvert_exporter": "python",
   "pygments_lexer": "ipython3",
   "version": "3.6.1"
  }
 },
 "nbformat": 4,
 "nbformat_minor": 2
}
