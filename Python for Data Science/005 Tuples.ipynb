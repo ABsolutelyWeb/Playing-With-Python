{
 "cells": [
  {
   "cell_type": "code",
   "execution_count": 3,
   "metadata": {},
   "outputs": [
    {
     "name": "stdout",
     "output_type": "stream",
     "text": [
      "<class 'tuple'>\n"
     ]
    }
   ],
   "source": [
    "# Tuples are like lists, but are immutable. It's an immutable list meaning that the values cannot be changed\n",
    "# by conventional means.\n",
    "\n",
    "tuple1 = (1, 2, 3, 4)   # <--- parentheses aren't needed\n",
    "tuple2 = 1, 2, 3, 4\n",
    "print(tuple)"
   ]
  },
  {
   "cell_type": "code",
   "execution_count": 5,
   "metadata": {},
   "outputs": [
    {
     "data": {
      "text/plain": [
       "1"
      ]
     },
     "execution_count": 5,
     "metadata": {},
     "output_type": "execute_result"
    }
   ],
   "source": [
    "tuple1[0]"
   ]
  },
  {
   "cell_type": "code",
   "execution_count": null,
   "metadata": {
    "collapsed": true
   },
   "outputs": [],
   "source": [
    "# Why to use tuples? Sometimes if we are passing through a list (such as into functions), we want to ensure that the list\n",
    "# won't be modified. Since lists are NOT immutable, we can change them such as list1[2] = \"asdasd\". But with tuples, that\n",
    "# is not possible so that is why they can be preferable to use over lists in some circumstances."
   ]
  }
 ],
 "metadata": {
  "kernelspec": {
   "display_name": "Python 3",
   "language": "python",
   "name": "python3"
  },
  "language_info": {
   "codemirror_mode": {
    "name": "ipython",
    "version": 3
   },
   "file_extension": ".py",
   "mimetype": "text/x-python",
   "name": "python",
   "nbconvert_exporter": "python",
   "pygments_lexer": "ipython3",
   "version": "3.6.1"
  }
 },
 "nbformat": 4,
 "nbformat_minor": 2
}
